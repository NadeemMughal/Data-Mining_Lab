{
 "cells": [
  {
   "cell_type": "markdown",
   "metadata": {},
   "source": [
    "## Muhammad Nadeem\n",
    "## 201980050"
   ]
  },
  {
   "cell_type": "markdown",
   "metadata": {
    "id": "lrK2aIrJfIaV"
   },
   "source": [
    "In this assignment, you'll apply what you learned in the **Scaling and normalization**."
   ]
  },
  {
   "cell_type": "markdown",
   "metadata": {
    "id": "rb7VuNxBfIaX"
   },
   "source": [
    "# Get our environment set up\n",
    "\n",
    "(Kickstarter is a website where people can ask people to invest in various projects and concept products.)\n",
    "\n",
    "The next code cell loads in the libraries and dataset we'll be using. "
   ]
  },
  {
   "cell_type": "code",
   "execution_count": 1,
   "metadata": {
    "collapsed": true,
    "executionInfo": {
     "elapsed": 1526,
     "status": "ok",
     "timestamp": 1673245083051,
     "user": {
      "displayName": "Zuhaib Hussain Butt",
      "userId": "02348208312150559776"
     },
     "user_tz": -300
    },
    "id": "apDfjvqNfIaX",
    "jupyter": {
     "outputs_hidden": true
    }
   },
   "outputs": [],
   "source": [
    "# modules we'll use\n",
    "import pandas as pd\n",
    "import numpy as np\n",
    "\n",
    "# for Box-Cox Transformation\n",
    "from scipy import stats\n",
    "\n",
    "# for min_max scaling\n",
    "from mlxtend.preprocessing import minmax_scaling\n",
    "\n",
    "# plotting modules\n",
    "import seaborn as sns\n",
    "import matplotlib.pyplot as plt\n",
    "\n",
    "# read in all our data\n",
    "kickstarters_2017 = pd.read_csv(\"ks-projects-201801.csv\")\n",
    "\n",
    "# set seed for reproducibility\n",
    "np.random.seed(0)"
   ]
  },
  {
   "cell_type": "markdown",
   "metadata": {
    "id": "3FJTEQd6fIaY"
   },
   "source": [
    "Let's start by scaling the goals of each campaign, which is how much money they were asking for.  After scaling, all values lie between 0 and 1."
   ]
  },
  {
   "cell_type": "code",
   "execution_count": 2,
   "metadata": {
    "colab": {
     "base_uri": "https://localhost:8080/"
    },
    "collapsed": true,
    "executionInfo": {
     "elapsed": 377,
     "status": "ok",
     "timestamp": 1673245087575,
     "user": {
      "displayName": "Zuhaib Hussain Butt",
      "userId": "02348208312150559776"
     },
     "user_tz": -300
    },
    "id": "SKDMRzskfIaY",
    "jupyter": {
     "outputs_hidden": true
    },
    "outputId": "70d9eac4-eb63-4e11-8369-e06425b2aa01"
   },
   "outputs": [
    {
     "name": "stdout",
     "output_type": "stream",
     "text": [
      "Original data\n",
      "Preview:\n",
      "    usd_goal_real\n",
      "0        1533.95\n",
      "1       30000.00\n",
      "2       45000.00\n",
      "3        5000.00\n",
      "4       19500.00\n",
      "Minimum value: 0.75 \n",
      "Maximum value: 20000000.0\n",
      "______________________________\n",
      "\n",
      "Scaled data\n",
      "Preview:\n",
      "    usd_goal_real\n",
      "0       0.000077\n",
      "1       0.001500\n",
      "2       0.002250\n",
      "3       0.000250\n",
      "4       0.000975\n",
      "Minimum value: 0.0 \n",
      "Maximum value: 1.0\n"
     ]
    }
   ],
   "source": [
    "# select the usd_goal_real column\n",
    "original_data = pd.DataFrame(kickstarters_2017.usd_goal_real)\n",
    "\n",
    "# scale the goals from 0 to 1\n",
    "scaled_data = minmax_scaling(original_data, columns=['usd_goal_real'])\n",
    "\n",
    "print('Original data\\nPreview:\\n', original_data.head())\n",
    "print('Minimum value:', float(original_data.min()),\n",
    "      '\\nMaximum value:', float(original_data.max()))\n",
    "print('_'*30)\n",
    "\n",
    "print('\\nScaled data\\nPreview:\\n', scaled_data.head())\n",
    "print('Minimum value:', float(scaled_data.min()),\n",
    "      '\\nMaximum value:', float(scaled_data.max()))"
   ]
  },
  {
   "cell_type": "markdown",
   "metadata": {
    "id": "ScRvNkj2fIaY"
   },
   "source": [
    "# 1) Practice scaling\n",
    "\n",
    "We just scaled the \"usd_goal_real\" column. What about the \"goal\" column?\n",
    "\n",
    "Begin by running the code cell below to create a DataFrame `original_goal_data` containing the \"goal\" column."
   ]
  },
  {
   "cell_type": "code",
   "execution_count": 3,
   "metadata": {
    "executionInfo": {
     "elapsed": 405,
     "status": "ok",
     "timestamp": 1673245162766,
     "user": {
      "displayName": "Zuhaib Hussain Butt",
      "userId": "02348208312150559776"
     },
     "user_tz": -300
    },
    "id": "fvAloygJfIaZ"
   },
   "outputs": [],
   "source": [
    "# select the usd_goal_real column\n",
    "original_goal_data = pd.DataFrame(kickstarters_2017.goal)"
   ]
  },
  {
   "cell_type": "markdown",
   "metadata": {
    "id": "ci_rU9VkfIaZ"
   },
   "source": [
    "Use `original_goal_data` to create a new DataFrame `scaled_goal_data` with values scaled between 0 and 1. You must use the `minmax_scaling()` function."
   ]
  },
  {
   "cell_type": "code",
   "execution_count": 4,
   "metadata": {
    "executionInfo": {
     "elapsed": 347,
     "status": "ok",
     "timestamp": 1673245165825,
     "user": {
      "displayName": "Zuhaib Hussain Butt",
      "userId": "02348208312150559776"
     },
     "user_tz": -300
    },
    "id": "F3y-aiAFfIaZ"
   },
   "outputs": [],
   "source": [
    "# TODO: Your code here\n",
    "scaled_goal_data = minmax_scaling(original_goal_data, columns=['goal'])\n"
   ]
  },
  {
   "cell_type": "code",
   "execution_count": 5,
   "metadata": {
    "colab": {
     "base_uri": "https://localhost:8080/",
     "height": 424
    },
    "executionInfo": {
     "elapsed": 21,
     "status": "ok",
     "timestamp": 1673245168194,
     "user": {
      "displayName": "Zuhaib Hussain Butt",
      "userId": "02348208312150559776"
     },
     "user_tz": -300
    },
    "id": "DZcioesVhIUm",
    "outputId": "f3f7cb74-56ea-44a6-aadb-d51edb9dc0ce"
   },
   "outputs": [
    {
     "data": {
      "text/html": [
       "\n",
       "  <div id=\"df-797b2a4c-5e8f-423d-844d-e29347023640\">\n",
       "    <div class=\"colab-df-container\">\n",
       "      <div>\n",
       "<style scoped>\n",
       "    .dataframe tbody tr th:only-of-type {\n",
       "        vertical-align: middle;\n",
       "    }\n",
       "\n",
       "    .dataframe tbody tr th {\n",
       "        vertical-align: top;\n",
       "    }\n",
       "\n",
       "    .dataframe thead th {\n",
       "        text-align: right;\n",
       "    }\n",
       "</style>\n",
       "<table border=\"1\" class=\"dataframe\">\n",
       "  <thead>\n",
       "    <tr style=\"text-align: right;\">\n",
       "      <th></th>\n",
       "      <th>goal</th>\n",
       "    </tr>\n",
       "  </thead>\n",
       "  <tbody>\n",
       "    <tr>\n",
       "      <th>0</th>\n",
       "      <td>0.000025</td>\n",
       "    </tr>\n",
       "    <tr>\n",
       "      <th>1</th>\n",
       "      <td>0.000750</td>\n",
       "    </tr>\n",
       "    <tr>\n",
       "      <th>2</th>\n",
       "      <td>0.001125</td>\n",
       "    </tr>\n",
       "    <tr>\n",
       "      <th>3</th>\n",
       "      <td>0.000125</td>\n",
       "    </tr>\n",
       "    <tr>\n",
       "      <th>4</th>\n",
       "      <td>0.000487</td>\n",
       "    </tr>\n",
       "    <tr>\n",
       "      <th>...</th>\n",
       "      <td>...</td>\n",
       "    </tr>\n",
       "    <tr>\n",
       "      <th>13634</th>\n",
       "      <td>0.000050</td>\n",
       "    </tr>\n",
       "    <tr>\n",
       "      <th>13635</th>\n",
       "      <td>0.000002</td>\n",
       "    </tr>\n",
       "    <tr>\n",
       "      <th>13636</th>\n",
       "      <td>0.001250</td>\n",
       "    </tr>\n",
       "    <tr>\n",
       "      <th>13637</th>\n",
       "      <td>0.000750</td>\n",
       "    </tr>\n",
       "    <tr>\n",
       "      <th>13638</th>\n",
       "      <td>0.000375</td>\n",
       "    </tr>\n",
       "  </tbody>\n",
       "</table>\n",
       "<p>13639 rows × 1 columns</p>\n",
       "</div>\n",
       "      <button class=\"colab-df-convert\" onclick=\"convertToInteractive('df-797b2a4c-5e8f-423d-844d-e29347023640')\"\n",
       "              title=\"Convert this dataframe to an interactive table.\"\n",
       "              style=\"display:none;\">\n",
       "        \n",
       "  <svg xmlns=\"http://www.w3.org/2000/svg\" height=\"24px\"viewBox=\"0 0 24 24\"\n",
       "       width=\"24px\">\n",
       "    <path d=\"M0 0h24v24H0V0z\" fill=\"none\"/>\n",
       "    <path d=\"M18.56 5.44l.94 2.06.94-2.06 2.06-.94-2.06-.94-.94-2.06-.94 2.06-2.06.94zm-11 1L8.5 8.5l.94-2.06 2.06-.94-2.06-.94L8.5 2.5l-.94 2.06-2.06.94zm10 10l.94 2.06.94-2.06 2.06-.94-2.06-.94-.94-2.06-.94 2.06-2.06.94z\"/><path d=\"M17.41 7.96l-1.37-1.37c-.4-.4-.92-.59-1.43-.59-.52 0-1.04.2-1.43.59L10.3 9.45l-7.72 7.72c-.78.78-.78 2.05 0 2.83L4 21.41c.39.39.9.59 1.41.59.51 0 1.02-.2 1.41-.59l7.78-7.78 2.81-2.81c.8-.78.8-2.07 0-2.86zM5.41 20L4 18.59l7.72-7.72 1.47 1.35L5.41 20z\"/>\n",
       "  </svg>\n",
       "      </button>\n",
       "      \n",
       "  <style>\n",
       "    .colab-df-container {\n",
       "      display:flex;\n",
       "      flex-wrap:wrap;\n",
       "      gap: 12px;\n",
       "    }\n",
       "\n",
       "    .colab-df-convert {\n",
       "      background-color: #E8F0FE;\n",
       "      border: none;\n",
       "      border-radius: 50%;\n",
       "      cursor: pointer;\n",
       "      display: none;\n",
       "      fill: #1967D2;\n",
       "      height: 32px;\n",
       "      padding: 0 0 0 0;\n",
       "      width: 32px;\n",
       "    }\n",
       "\n",
       "    .colab-df-convert:hover {\n",
       "      background-color: #E2EBFA;\n",
       "      box-shadow: 0px 1px 2px rgba(60, 64, 67, 0.3), 0px 1px 3px 1px rgba(60, 64, 67, 0.15);\n",
       "      fill: #174EA6;\n",
       "    }\n",
       "\n",
       "    [theme=dark] .colab-df-convert {\n",
       "      background-color: #3B4455;\n",
       "      fill: #D2E3FC;\n",
       "    }\n",
       "\n",
       "    [theme=dark] .colab-df-convert:hover {\n",
       "      background-color: #434B5C;\n",
       "      box-shadow: 0px 1px 3px 1px rgba(0, 0, 0, 0.15);\n",
       "      filter: drop-shadow(0px 1px 2px rgba(0, 0, 0, 0.3));\n",
       "      fill: #FFFFFF;\n",
       "    }\n",
       "  </style>\n",
       "\n",
       "      <script>\n",
       "        const buttonEl =\n",
       "          document.querySelector('#df-797b2a4c-5e8f-423d-844d-e29347023640 button.colab-df-convert');\n",
       "        buttonEl.style.display =\n",
       "          google.colab.kernel.accessAllowed ? 'block' : 'none';\n",
       "\n",
       "        async function convertToInteractive(key) {\n",
       "          const element = document.querySelector('#df-797b2a4c-5e8f-423d-844d-e29347023640');\n",
       "          const dataTable =\n",
       "            await google.colab.kernel.invokeFunction('convertToInteractive',\n",
       "                                                     [key], {});\n",
       "          if (!dataTable) return;\n",
       "\n",
       "          const docLinkHtml = 'Like what you see? Visit the ' +\n",
       "            '<a target=\"_blank\" href=https://colab.research.google.com/notebooks/data_table.ipynb>data table notebook</a>'\n",
       "            + ' to learn more about interactive tables.';\n",
       "          element.innerHTML = '';\n",
       "          dataTable['output_type'] = 'display_data';\n",
       "          await google.colab.output.renderOutput(dataTable, element);\n",
       "          const docLink = document.createElement('div');\n",
       "          docLink.innerHTML = docLinkHtml;\n",
       "          element.appendChild(docLink);\n",
       "        }\n",
       "      </script>\n",
       "    </div>\n",
       "  </div>\n",
       "  "
      ],
      "text/plain": [
       "           goal\n",
       "0      0.000025\n",
       "1      0.000750\n",
       "2      0.001125\n",
       "3      0.000125\n",
       "4      0.000487\n",
       "...         ...\n",
       "13634  0.000050\n",
       "13635  0.000002\n",
       "13636  0.001250\n",
       "13637  0.000750\n",
       "13638  0.000375\n",
       "\n",
       "[13639 rows x 1 columns]"
      ]
     },
     "execution_count": 5,
     "metadata": {},
     "output_type": "execute_result"
    }
   ],
   "source": [
    "scaled_goal_data"
   ]
  },
  {
   "cell_type": "markdown",
   "metadata": {
    "id": "Q9rDJfIZfIaa"
   },
   "source": [
    "# 2) Practice normalization\n",
    "\n",
    "Now you'll practice normalization. We begin by normalizing the amount of money pledged to each campaign."
   ]
  },
  {
   "cell_type": "code",
   "execution_count": 10,
   "metadata": {
    "colab": {
     "base_uri": "https://localhost:8080/"
    },
    "collapsed": true,
    "executionInfo": {
     "elapsed": 387,
     "status": "ok",
     "timestamp": 1673245375215,
     "user": {
      "displayName": "Zuhaib Hussain Butt",
      "userId": "02348208312150559776"
     },
     "user_tz": -300
    },
    "id": "WPfE8PMafIaa",
    "jupyter": {
     "outputs_hidden": true
    },
    "outputId": "a141083f-36d0-4dc6-97d7-4e6fb1c1c32a"
   },
   "outputs": [
    {
     "name": "stdout",
     "output_type": "stream",
     "text": [
      "Original data\n",
      "Preview:\n",
      " 1     2421.0\n",
      "2      220.0\n",
      "3        1.0\n",
      "4     1283.0\n",
      "5    52375.0\n",
      "Name: usd_pledged_real, dtype: float64\n",
      "Minimum value: 0.52 \n",
      "Maximum value: 8596474.58\n",
      "______________________________\n",
      "\n",
      "Normalized data\n",
      "Preview:\n",
      " 1    10.049349\n",
      "2     6.418696\n",
      "3     0.000000\n",
      "4     9.034302\n",
      "5    15.578424\n",
      "Name: usd_pledged_real, dtype: float64\n",
      "Minimum value: -0.6406912845628095 \n",
      "Maximum value: 27.466570734057772\n"
     ]
    }
   ],
   "source": [
    "# get the index of all positive pledges (Box-Cox only takes positive values)\n",
    "index_of_positive_pledges = kickstarters_2017.usd_pledged_real > 0\n",
    "\n",
    "# get only positive pledges (using their indexes)\n",
    "positive_pledges = kickstarters_2017.usd_pledged_real.loc[index_of_positive_pledges]\n",
    "\n",
    "# normalize the pledges (w/ Box-Cox)\n",
    "normalized_pledges = pd.Series(stats.boxcox(positive_pledges)[0], \n",
    "                               name='usd_pledged_real', index=positive_pledges.index)\n",
    "\n",
    "print('Original data\\nPreview:\\n', positive_pledges.head())\n",
    "print('Minimum value:', float(positive_pledges.min()),\n",
    "      '\\nMaximum value:', float(positive_pledges.max()))\n",
    "print('_'*30)\n",
    "\n",
    "print('\\nNormalized data\\nPreview:\\n', normalized_pledges.head())\n",
    "print('Minimum value:', float(normalized_pledges.min()),\n",
    "      '\\nMaximum value:', float(normalized_pledges.max()))"
   ]
  },
  {
   "cell_type": "markdown",
   "metadata": {
    "id": "VDF3xRAWfIaa"
   },
   "source": [
    "The values have changed significantly with normalization!\n",
    "\n",
    "In the next code cell, you'll take a look at the distribution of the normalized data, where it should now resemble a normal distribution."
   ]
  },
  {
   "cell_type": "code",
   "execution_count": 11,
   "metadata": {
    "colab": {
     "base_uri": "https://localhost:8080/",
     "height": 296
    },
    "executionInfo": {
     "elapsed": 33563,
     "status": "ok",
     "timestamp": 1673245432180,
     "user": {
      "displayName": "Zuhaib Hussain Butt",
      "userId": "02348208312150559776"
     },
     "user_tz": -300
    },
    "id": "FVLyv32NMBgR",
    "outputId": "4d502b25-bafb-4fb5-d796-088fb1778a37"
   },
   "outputs": [
    {
     "data": {
      "image/png": "[encoded data removed]",
      "text/plain": [
       "<Figure size 432x288 with 1 Axes>"
      ]
     },
     "metadata": {
      "needs_background": "light"
     },
     "output_type": "display_data"
    }
   ],
   "source": [
    "dd = sns.histplot(positive_pledges, kde=True)\n",
    "dd.set_title(\"Normalized data\")\n",
    "plt.show()"
   ]
  },
  {
   "cell_type": "code",
   "execution_count": 7,
   "metadata": {
    "colab": {
     "base_uri": "https://localhost:8080/",
     "height": 296
    },
    "executionInfo": {
     "elapsed": 804,
     "status": "ok",
     "timestamp": 1673245213136,
     "user": {
      "displayName": "Zuhaib Hussain Butt",
      "userId": "02348208312150559776"
     },
     "user_tz": -300
    },
    "id": "plQ1AUf8fIab",
    "outputId": "57cee116-604e-4d3a-8f95-8962a6ba9862"
   },
   "outputs": [
    {
     "data": {
      "image/png": "[encoded data removed]",
      "text/plain": [
       "<Figure size 432x288 with 1 Axes>"
      ]
     },
     "metadata": {
      "needs_background": "light"
     },
     "output_type": "display_data"
    }
   ],
   "source": [
    "# plot normalized data\n",
    "ax = sns.histplot(normalized_pledges, kde=True)\n",
    "ax.set_title(\"Normalized data\")\n",
    "plt.show()"
   ]
  },
  {
   "cell_type": "markdown",
   "metadata": {
    "id": "7GCKaSJafIab"
   },
   "source": [
    "We used the \"usd_pledged_real\" column. Follow the same process to normalize the \"pledged\" column. "
   ]
  },
  {
   "cell_type": "code",
   "execution_count": null,
   "metadata": {
    "colab": {
     "base_uri": "https://localhost:8080/",
     "height": 312
    },
    "id": "rSQIvgBGfIab",
    "outputId": "84bd4f7a-83b9-48a9-a5cc-4ce0f49c9b4a"
   },
   "outputs": [
    {
     "data": {
      "text/plain": [
       "Text(0.5, 1.0, 'Normalized data')"
      ]
     },
     "execution_count": 15,
     "metadata": {},
     "output_type": "execute_result"
    },
    {
     "data": {
      "image/png": "[encoded data removed]",
      "text/plain": [
       "<Figure size 432x288 with 1 Axes>"
      ]
     },
     "metadata": {
      "needs_background": "light"
     },
     "output_type": "display_data"
    }
   ],
   "source": [
    "# TODO: Your code here!\n",
    "# get the index of all positive pledges (Box-Cox only takes positive values)\n",
    "index_positive_pledges = kickstarters_2017.pledged > 0\n",
    "\n",
    "# get only positive pledges (using their indexes)\n",
    "positive_pledges_only = kickstarters_2017.pledged.loc[index_positive_pledges]\n",
    "\n",
    "# normalize the pledges (w/ Box-Cox)\n",
    "normalized_values = pd.Series(stats.boxcox(positive_pledges_only)[0], \n",
    "                              name='pledged', index=positive_pledges_only.index)\n",
    "\n",
    "# plot normalized data\n",
    "ax = sns.histplot(normalized_values, kde=True)\n",
    "ax.set_title(\"Normalized data\")"
   ]
  }
 ],
 "metadata": {
  "colab": {
   "provenance": []
  },
  "kernelspec": {
   "display_name": "Python 3 (ipykernel)",
   "language": "python",
   "name": "python3"
  },
  "language_info": {
   "codemirror_mode": {
    "name": "ipython",
    "version": 3
   },
   "file_extension": ".py",
   "mimetype": "text/x-python",
   "name": "python",
   "nbconvert_exporter": "python",
   "pygments_lexer": "ipython3",
   "version": "3.11.5"
  }
 },
 "nbformat": 4,
 "nbformat_minor": 1
}

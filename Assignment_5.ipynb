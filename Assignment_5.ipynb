{
  "cells": [
    {
      "cell_type": "markdown",
      "metadata": {
        "id": "WYLVPxieApOK"
      },
      "source": [
        "# Welcome to this Kernel For Assignement\n",
        "\n"
      ]
    },
    {
      "cell_type": "markdown",
      "metadata": {
        "id": "7Hbh-a9QApOL"
      },
      "source": [
        "<a id='table_of_contents'></a>\n",
        "# Table of contents\n",
        "\n",
        "[1. How to create a series from a list, numpy array and dict?](#q1)\n",
        "\n",
        "[2. How to combine many series to form a dataframe?](#q2)\n",
        "\n",
        "[3. How to get the items of series A not present in series B?](#q3)\n",
        "\n",
        "[4. How to get the items not common to both series A and series B?](#q4)\n",
        "\n",
        "[5. How to get useful infos](#q5)\n",
        "\n",
        "[6. How to get frequency counts of unique items of a series?](#q6)\n",
        "\n",
        "[7. How to convert a numpy array to a dataframe of given shape? (L1)](#q7)\n",
        "\n",
        "[8. How to find the positions of numbers that are multiples of 3 from a series?](#q8)\n",
        "\n",
        "[9. How to extract items at given positions from a series?](#q9)\n",
        "\n",
        "[10. How to stack two series vertically and horizontally ?](#q10)\n",
        "\n",
        "[11. How to get the positions of items of series A in another series B?](#q11)\n",
        "\n",
        "[12. How to compute difference of differences between consequtive numbers of a series?](#q12)\n",
        "\n",
        "[13. How to convert a series of date-strings to a timeseries?](#q13)\n",
        "\n",
        "[14. How to filter words that contain atleast 2 vowels from a series?](#q14)\n",
        "\n",
        "[15. How to replace missing spaces in a string with the least frequent character?](#q15)\n",
        "\n",
        "[16. How to change column values when importing csv to a dataframe?](#q16)\n",
        "\n",
        "[17. How to import only specified columns from a csv file?](#q17)\n",
        "\n",
        "[18. How to check if a dataframe has any missing values?](#q18)\n",
        "\n",
        "[19. How to replace missing values of multiple numeric columns with the mean?](#q19)\n",
        "\n",
        "[20. How to change the order of columns of a dataframe?](#q20)\n",
        "\n",
        "[21. How to filter every nth row in a dataframe?](#q21)\n",
        "\n",
        "[22. How to get the last n rows of a dataframe with row sum > 100?](#q22)\n",
        "\n",
        "[23. How to find and cap outliers from a series or dataframe column?](#q23)\n",
        "\n",
        "[24. How to reverse the rows of a dataframe?](#q24)\n"
      ]
    },
    {
      "cell_type": "code",
      "execution_count": null,
      "metadata": {
        "_cell_guid": "b1076dfc-b9ad-4769-8c92-a6c4dae69d19",
        "_uuid": "8f2839f25d086af736a60e9eeb907d3b93b6e0e5",
        "id": "ZgwDSyFeApOM"
      },
      "outputs": [],
      "source": [
        "# Allow several prints in one cell\n",
        "from IPython.core.interactiveshell import InteractiveShell\n",
        "InteractiveShell.ast_node_interactivity = \"all\"\n",
        "\n",
        "import pandas as pd"
      ]
    },
    {
      "cell_type": "markdown",
      "metadata": {
        "id": "zjmjEKfMApON"
      },
      "source": [
        "# Pandas exercise"
      ]
    },
    {
      "cell_type": "markdown",
      "metadata": {
        "id": "EaH1aMfKApON"
      },
      "source": [
        "<a id = 'q1'></a>\n",
        "\n",
        "**1. How to create a series from a list, numpy array and dict?**\n",
        "\n",
        "Create a pandas series from each of the items below: a list, numpy and a dictionary\n",
        "\n",
        "[Go back to the table of contents](#table_of_contents)"
      ]
    },
    {
      "cell_type": "code",
      "execution_count": null,
      "metadata": {
        "id": "OiDNy_rYApON"
      },
      "outputs": [],
      "source": [
        "# Input\n",
        "import numpy as np\n",
        "a_list = list(\"abcdefg\")\n",
        "numpy_array = np.arange(1, 10)\n",
        "dictionary = {\"A\":  0, \"B\":1, \"C\":2, \"D\":3, \"E\":5}"
      ]
    },
    {
      "cell_type": "markdown",
      "metadata": {
        "id": "e20FuM9QApOO"
      },
      "source": [
        "<a id = 'q2'></a>\n",
        "**2. How to combine many series to form a dataframe?**\n",
        "\n",
        "Combine ser1 and ser2 to form a dataframe.\n",
        "\n",
        "[Go back to the table of contents](#table_of_contents)"
      ]
    },
    {
      "cell_type": "code",
      "execution_count": null,
      "metadata": {
        "id": "sNWikja6ApOP"
      },
      "outputs": [],
      "source": [
        "# input\n",
        "ser1 = pd.Series(list('abcedfghijklmnopqrstuvwxyz'))\n",
        "ser2 = pd.Series(np.arange(26))"
      ]
    },
    {
      "cell_type": "markdown",
      "metadata": {
        "id": "p-DE9YG8ApOP"
      },
      "source": [
        "<a id = 'q3'></a>\n",
        "**3. How to get the items of series A not present in series B?**\n",
        "\n",
        "Get all items of ser1 and ser2 not common to both.\n",
        "\n",
        "[Go back to the table of contents](#table_of_contents)"
      ]
    },
    {
      "cell_type": "code",
      "execution_count": null,
      "metadata": {
        "id": "Y8_tILdWApOQ"
      },
      "outputs": [],
      "source": [
        "# input\n",
        "ser1 = pd.Series([1, 2, 3,23, 4, 5])\n",
        "ser2 = pd.Series([4, 5, 6, 7, 8])"
      ]
    },
    {
      "cell_type": "markdown",
      "metadata": {
        "id": "0gWAVx6lApOQ"
      },
      "source": [
        "<a id = 'q4'></a>\n",
        "**4. How to get the items not common to both series A and series B?**\n",
        "\n",
        "Get all items of ser1 and ser2 not common to both.\n",
        "\n",
        "[Go back to the table of contents](#table_of_contents)"
      ]
    },
    {
      "cell_type": "code",
      "execution_count": null,
      "metadata": {
        "id": "phTGKxSIApOQ"
      },
      "outputs": [],
      "source": [
        "# input\n",
        "ser1 = pd.Series([1, 2, 3, 4, 5])\n",
        "ser2 = pd.Series([4, 5, 6, 7, 8])"
      ]
    },
    {
      "cell_type": "markdown",
      "metadata": {
        "id": "s40lqgPpApOR"
      },
      "source": [
        "<a id = 'q5'></a>\n",
        "**5. How to get useful infos**\n",
        "\n",
        "Compute the minimum, 25th percentile, median, 75th, and maximum of ser.\n",
        "\n",
        "[Go back to the table of contents](#table_of_contents)"
      ]
    },
    {
      "cell_type": "code",
      "execution_count": null,
      "metadata": {
        "id": "X3WCiGM1ApOR"
      },
      "outputs": [],
      "source": [
        "# input\n",
        "state = np.random.RandomState(100)\n",
        "ser = pd.Series(state.normal(10, 5, 25))\n"
      ]
    },
    {
      "cell_type": "code",
      "source": [
        "import matplotlib.pyplot as plt"
      ],
      "metadata": {
        "id": "s1lnFcwcE-pw"
      },
      "execution_count": null,
      "outputs": []
    },
    {
      "cell_type": "markdown",
      "metadata": {
        "id": "EjHlbdfXApOR"
      },
      "source": [
        "<a id = 'q6'></a>\n",
        "**6. How to get frequency counts of unique items of a series?**\n",
        "\n",
        "Calculate the frequency counts of each unique value ser.\n",
        "\n",
        "[Go back to the table of contents](#table_of_contents)"
      ]
    },
    {
      "cell_type": "code",
      "execution_count": null,
      "metadata": {
        "id": "0MvQ5zlUApOR"
      },
      "outputs": [],
      "source": [
        "# input\n",
        "ser = pd.Series(np.take(list('abcdefgh'), np.random.randint(5, size=30)))"
      ]
    },
    {
      "cell_type": "markdown",
      "metadata": {
        "id": "fwGFxhjZApOS"
      },
      "source": [
        "<a id = 'q7'></a>\n",
        "**7. How to convert a numpy array to a dataframe of given shape? (L1)**\n",
        "\n",
        "Reshape the series ser into a dataframe with 7 rows and 5 columns\n",
        "\n",
        "[Go back to the table of contents](#table_of_contents)"
      ]
    },
    {
      "cell_type": "code",
      "execution_count": null,
      "metadata": {
        "id": "lAw5l-WYApOS",
        "outputId": "75ccff17-2880-4bed-e377-7809c9474c6d"
      },
      "outputs": [
        {
          "data": {
            "text/plain": [
              "0     3\n",
              "1     6\n",
              "2     5\n",
              "3     6\n",
              "4     3\n",
              "5     5\n",
              "6     9\n",
              "7     6\n",
              "8     2\n",
              "9     1\n",
              "10    8\n",
              "11    2\n",
              "12    8\n",
              "13    8\n",
              "14    7\n",
              "15    1\n",
              "16    1\n",
              "17    3\n",
              "18    1\n",
              "19    4\n",
              "20    3\n",
              "21    9\n",
              "22    6\n",
              "23    9\n",
              "24    7\n",
              "25    4\n",
              "26    8\n",
              "27    7\n",
              "28    4\n",
              "29    6\n",
              "30    5\n",
              "31    6\n",
              "32    9\n",
              "33    1\n",
              "34    2\n",
              "dtype: int64"
            ]
          },
          "execution_count": 14,
          "metadata": {},
          "output_type": "execute_result"
        }
      ],
      "source": [
        "# input\n",
        "ser = pd.Series(np.random.randint(1, 10, 35))\n",
        "ser"
      ]
    },
    {
      "cell_type": "markdown",
      "metadata": {
        "id": "Yv3Yew60ApOS"
      },
      "source": [
        "<a id = 'q8'></a>\n",
        "**8. How to find the positions of numbers that are multiples of 3 from a series?**\n",
        "\n",
        "Find the positions of numbers that are multiples of 3 from ser.\n",
        "\n",
        "[Go back to the table of contents](#table_of_contents)"
      ]
    },
    {
      "cell_type": "code",
      "execution_count": null,
      "metadata": {
        "id": "6Yn2cUGiApOS",
        "outputId": "add28624-56d9-4cf9-ce08-e5f7f0d60f54"
      },
      "outputs": [
        {
          "data": {
            "text/plain": [
              "RandomState(MT19937) at 0x7F8D0895DEB8"
            ]
          },
          "execution_count": 16,
          "metadata": {},
          "output_type": "execute_result"
        },
        {
          "data": {
            "text/plain": [
              "0    2\n",
              "1    3\n",
              "2    4\n",
              "3    4\n",
              "4    3\n",
              "5    3\n",
              "6    3\n",
              "7    3\n",
              "8    3\n",
              "9    4\n",
              "dtype: int64"
            ]
          },
          "execution_count": 16,
          "metadata": {},
          "output_type": "execute_result"
        }
      ],
      "source": [
        "# input\n",
        "\n",
        "np.random.RandomState(100)\n",
        "ser = pd.Series(np.random.randint(1, 5, 10))\n",
        "ser"
      ]
    },
    {
      "cell_type": "markdown",
      "metadata": {
        "id": "yFpKUsP3ApOT"
      },
      "source": [
        "<a id = 'q9'></a>\n",
        "**9. How to extract items at given positions from a series**\n",
        "\n",
        "From ser, extract the items at positions in list pos.\n",
        "\n",
        "[Go back to the table of contents](#table_of_contents)"
      ]
    },
    {
      "cell_type": "code",
      "execution_count": null,
      "metadata": {
        "id": "zf4FJBXLApOT"
      },
      "outputs": [],
      "source": [
        "# input\n",
        "\n",
        "ser = pd.Series(list('abcdefghijklmnopqrstuvwxyz'))\n",
        "pos = [0, 4, 8, 14, 20]"
      ]
    },
    {
      "cell_type": "markdown",
      "metadata": {
        "id": "ocJu4-YWApOT"
      },
      "source": [
        "<a id = 'q10'></a>\n",
        "\n",
        "**10. How to stack two series vertically and horizontally ?**\n",
        "\n",
        "Stack ser1 and ser2 vertically and horizontally (to form a dataframe).\n",
        "\n",
        "[Go back to the table of contents](#table_of_contents)"
      ]
    },
    {
      "cell_type": "code",
      "execution_count": null,
      "metadata": {
        "id": "088wSxfCApOT"
      },
      "outputs": [],
      "source": [
        "# input\n",
        "ser1 = pd.Series(range(5))\n",
        "ser2 = pd.Series(list('abcde'))"
      ]
    },
    {
      "cell_type": "markdown",
      "metadata": {
        "id": "j4j5KY1eApOU"
      },
      "source": [
        "<a id = 'q11'></a>\n",
        "**11. How to get the positions of items of series A in another series B?**\n",
        "\n",
        "Get the positions of items of ser2 in ser1 as a list.\n",
        "\n",
        "[Go back to the table of contents](#table_of_contents)"
      ]
    },
    {
      "cell_type": "code",
      "execution_count": null,
      "metadata": {
        "id": "08PxqH6QApOU"
      },
      "outputs": [],
      "source": [
        "# input\n",
        "ser1 = pd.Series([10, 9, 6, 5, 3, 1, 12, 8, 13])\n",
        "ser2 = pd.Series([1, 3, 10, 13])"
      ]
    },
    {
      "cell_type": "markdown",
      "metadata": {
        "id": "BhD2eKK7ApOU"
      },
      "source": [
        "<a id = 'q12'></a>\n",
        "**12. How to compute difference of differences between consequtive numbers of a series?**\n",
        "\n",
        "Difference of differences between the consequtive numbers of ser.\n",
        "\n",
        "[Go back to the table of contents](#table_of_contents)"
      ]
    },
    {
      "cell_type": "code",
      "execution_count": null,
      "metadata": {
        "id": "yVG--GOoApOU"
      },
      "outputs": [],
      "source": [
        "# input\n",
        "ser = pd.Series([1, 3, 6, 10, 15, 21, 27, 35])\n",
        "\n",
        "# Desired Output\n",
        "# [nan, 2.0, 3.0, 4.0, 5.0, 6.0, 6.0, 8.0]\n",
        "# [nan, nan, 1.0, 1.0, 1.0, 1.0, 0.0, 2.0]"
      ]
    },
    {
      "cell_type": "markdown",
      "metadata": {
        "id": "SNzYZmoSApOa"
      },
      "source": [
        "<a id = 'q13'></a>\n",
        "\n",
        "**13. How to convert a series of date-strings to a timeseries?**\n",
        "\n",
        "[Go back to the table of contents](#table_of_contents)"
      ]
    },
    {
      "cell_type": "code",
      "execution_count": null,
      "metadata": {
        "id": "1sqWIhpdApOa",
        "outputId": "dc6f3f63-10e8-4bc1-892e-cb28e4e24ccb"
      },
      "outputs": [
        {
          "data": {
            "text/plain": [
              "'\\nDesired Output\\n\\n0   2010-01-01 00:00:00\\n1   2011-02-02 00:00:00\\n2   2012-03-03 00:00:00\\n3   2013-04-04 00:00:00\\n4   2014-05-05 00:00:00\\n5   2015-06-06 12:20:00\\n'"
            ]
          },
          "execution_count": 26,
          "metadata": {},
          "output_type": "execute_result"
        }
      ],
      "source": [
        "# input\n",
        "ser = pd.Series(['01 Jan 2010', '02-02-2011', '20120303', '2013/04/04', '2014-05-05', '2015-06-06T12:20'])\n",
        "\n",
        "\n",
        "'''\n",
        "Desired Output\n",
        "\n",
        "0   2010-01-01 00:00:00\n",
        "1   2011-02-02 00:00:00\n",
        "2   2012-03-03 00:00:00\n",
        "3   2013-04-04 00:00:00\n",
        "4   2014-05-05 00:00:00\n",
        "5   2015-06-06 12:20:00\n",
        "'''\n",
        "\n"
      ]
    },
    {
      "cell_type": "markdown",
      "metadata": {
        "id": "U59BN6-4ApOb"
      },
      "source": [
        "<a id = 'q14'></a>\n",
        "\n",
        "**14. How to filter words that contain atleast 2 vowels from a series?**\n",
        "\n",
        "From ser, extract words that contain atleast 2 vowels.\n",
        "\n",
        "[Go back to the table of contents](#table_of_contents)"
      ]
    },
    {
      "cell_type": "code",
      "execution_count": null,
      "metadata": {
        "id": "EDWoEQ-lApOb",
        "outputId": "7a71fdbd-5724-4a48-9fc3-822bee9ac20f"
      },
      "outputs": [
        {
          "data": {
            "text/plain": [
              "'\\nDesired Output\\n\\n\\n0     Apple\\n1    Orange\\n4     Money\\ndtype: object\\n'"
            ]
          },
          "execution_count": 28,
          "metadata": {},
          "output_type": "execute_result"
        }
      ],
      "source": [
        "# input\n",
        "ser = pd.Series(['Apple', 'Orange', 'Plan', 'Python', 'Money'])\n",
        "\n",
        "'''\n",
        "Desired Output\n",
        "\n",
        "\n",
        "0     Apple\n",
        "1    Orange\n",
        "4     Money\n",
        "dtype: object\n",
        "'''"
      ]
    },
    {
      "cell_type": "markdown",
      "metadata": {
        "id": "P0druv3jApOc"
      },
      "source": [
        "<a id = 'q15'></a>\n",
        "\n",
        "**15. How to replace missing spaces in a string with the least frequent character?**\n",
        "\n",
        "Replace the spaces in my_str with the least frequent character.\n",
        "\n",
        "[Go back to the table of contents](#table_of_contents)"
      ]
    },
    {
      "cell_type": "code",
      "execution_count": null,
      "metadata": {
        "colab": {
          "base_uri": "https://localhost:8080/",
          "height": 35
        },
        "id": "RBxZRgSdApOc",
        "outputId": "870e0d75-54c1-4c17-cb34-20adcd89fb57"
      },
      "outputs": [
        {
          "output_type": "execute_result",
          "data": {
            "text/plain": [
              "\"\\nDesired Output\\n\\n'dbccdebcabedcggade'  # least frequent is 'c'\\n\""
            ],
            "application/vnd.google.colaboratory.intrinsic+json": {
              "type": "string"
            }
          },
          "metadata": {},
          "execution_count": 40
        }
      ],
      "source": [
        "# input\n",
        "my_str = 'dbc deb abed ggade'\n",
        "\n",
        "'''\n",
        "Desired Output\n",
        "\n",
        "'dbccdebcabedcggade'  # least frequent is 'c'\n",
        "'''"
      ]
    },
    {
      "cell_type": "markdown",
      "source": [
        "# **THE END**"
      ],
      "metadata": {
        "id": "bMRkLpoQ8r35"
      }
    }
  ],
  "metadata": {
    "kernelspec": {
      "display_name": "Python 3",
      "language": "python",
      "name": "python3"
    },
    "language_info": {
      "codemirror_mode": {
        "name": "ipython",
        "version": 3
      },
      "file_extension": ".py",
      "mimetype": "text/x-python",
      "name": "python",
      "nbconvert_exporter": "python",
      "pygments_lexer": "ipython3",
      "version": "3.6.6"
    },
    "colab": {
      "provenance": []
    }
  },
  "nbformat": 4,
  "nbformat_minor": 0
}
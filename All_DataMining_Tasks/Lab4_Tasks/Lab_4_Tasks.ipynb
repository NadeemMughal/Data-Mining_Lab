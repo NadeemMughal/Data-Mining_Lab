{
 "cells": [
  {
   "cell_type": "markdown",
   "id": "03aca03e",
   "metadata": {},
   "source": [
    "# Muhammad Nadeem\n",
    "# 201980050\n",
    "# Lab 4 Task"
   ]
  },
  {
   "cell_type": "code",
   "execution_count": 42,
   "id": "46e66dea",
   "metadata": {},
   "outputs": [
    {
     "name": "stdout",
     "output_type": "stream",
     "text": [
      "Euclidean Distance: 5.656854249492381\n"
     ]
    }
   ],
   "source": [
    "import numpy as np\n",
    "from scipy.spatial import distance\n",
    "from sklearn.metrics.pairwise import cosine_similarity\n",
    "from sklearn.feature_extraction.text import TfidfVectorizer\n",
    "\n",
    "# 1. Euclidean Distance\n",
    "point1 = np.array([3, 5])\n",
    "point2 = np.array([7, 1])\n",
    "euclidean_distance = distance.euclidean(point1,point2)\n",
    "print(\"Euclidean Distance:\", euclidean_distance)\n",
    "\n"
   ]
  },
  {
   "cell_type": "code",
   "execution_count": 43,
   "id": "ee8f3e57",
   "metadata": {},
   "outputs": [
    {
     "name": "stdout",
     "output_type": "stream",
     "text": [
      "9\n"
     ]
    }
   ],
   "source": [
    "from math import sqrt\n",
    "# calculate manhattan distance\n",
    "def manhattan_distance(a, b):\n",
    "    return sum(abs(e1-e2) for e1, e2 in zip(a,b))\n",
    "# define data\n",
    "row1 = np.array([4, 6, 2])\n",
    "row2 = np.array([1, 3, 5])\n",
    "# calculate distance\n",
    "dist = manhattan_distance(row1, row2)\n",
    "print(dist)"
   ]
  },
  {
   "cell_type": "code",
   "execution_count": 44,
   "id": "a4b2e334",
   "metadata": {},
   "outputs": [
    {
     "name": "stdout",
     "output_type": "stream",
     "text": [
      "4.242640687119285\n"
     ]
    }
   ],
   "source": [
    "from math import sqrt\n",
    "# calculate minkowski distance\n",
    "def minkowski_distance(a, b, p):\n",
    "    return sum(abs(e1-e2)**p for e1, e2 in zip(a,b))**(1/p)\n",
    "# define data\n",
    "row1 = np.array([2, 4])\n",
    "row2 = np.array([5, 7])\n",
    "\n",
    "dist = minkowski_distance(row1, row2, 2)\n",
    "print(dist)"
   ]
  },
  {
   "cell_type": "code",
   "execution_count": null,
   "id": "cc286fbe",
   "metadata": {},
   "outputs": [],
   "source": []
  },
  {
   "cell_type": "code",
   "execution_count": 49,
   "id": "cb5ef03e",
   "metadata": {},
   "outputs": [
    {
     "name": "stdout",
     "output_type": "stream",
     "text": [
      "Cosine Similarity: 0.23577033983032974\n"
     ]
    }
   ],
   "source": [
    "import numpy as np\n",
    "from sklearn.metrics.pairwise import cosine_similarity\n",
    "from sklearn.feature_extraction.text import TfidfVectorizer\n",
    "\n",
    "# 4. Cosine Similarity\n",
    "sentence1 = \"Data science is essential for scientific advancements.\"\n",
    "sentence2 = \"Scientific progress relies on the importance of data science.\"\n",
    "\n",
    "tfidf_vectorizer = TfidfVectorizer()\n",
    "tfidf_matrix = tfidf_vectorizer.fit_transform([sentence1, sentence2])\n",
    "\n",
    "# Convert sparse matrix to dense array\n",
    "dense_tfidf_matrix = tfidf_matrix.toarray()\n",
    "\n",
    "cosine_similarity_score = cosine_similarity([dense_tfidf_matrix[0]], [dense_tfidf_matrix[1]])[0][0]\n",
    "print(\"Cosine Similarity:\", cosine_similarity_score)\n"
   ]
  },
  {
   "cell_type": "code",
   "execution_count": 50,
   "id": "6681394b",
   "metadata": {},
   "outputs": [
    {
     "name": "stdout",
     "output_type": "stream",
     "text": [
      "Jaccard Similarity: 0.2\n"
     ]
    }
   ],
   "source": [
    "# 5. Jaccard Similarity\n",
    "set_A = {'apple', 'banana', 'orange'}\n",
    "set_B = {'banana', 'mango', 'kiwi'}\n",
    "jaccard_similarity = len(set_A.intersection(set_B)) / len(set_A.union(set_B))\n",
    "print(\"Jaccard Similarity:\", jaccard_similarity)"
   ]
  },
  {
   "cell_type": "code",
   "execution_count": null,
   "id": "1fae9c22",
   "metadata": {},
   "outputs": [],
   "source": []
  }
 ],
 "metadata": {
  "kernelspec": {
   "display_name": "Python 3 (ipykernel)",
   "language": "python",
   "name": "python3"
  },
  "language_info": {
   "codemirror_mode": {
    "name": "ipython",
    "version": 3
   },
   "file_extension": ".py",
   "mimetype": "text/x-python",
   "name": "python",
   "nbconvert_exporter": "python",
   "pygments_lexer": "ipython3",
   "version": "3.11.5"
  }
 },
 "nbformat": 4,
 "nbformat_minor": 5
}

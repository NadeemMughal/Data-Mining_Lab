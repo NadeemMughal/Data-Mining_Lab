{
 "cells": [
  {
   "cell_type": "markdown",
   "id": "4d2d8ef3",
   "metadata": {},
   "source": [
    "# Muhammad Nadeem"
   ]
  },
  {
   "cell_type": "markdown",
   "id": "b5c4f8aa",
   "metadata": {},
   "source": [
    "## 201980050"
   ]
  },
  {
   "cell_type": "markdown",
   "id": "9f6f93e8",
   "metadata": {},
   "source": [
    "### Lab3_Tasks"
   ]
  },
  {
   "cell_type": "markdown",
   "id": "c76e1378",
   "metadata": {},
   "source": [
    "#### 06-December-2023"
   ]
  },
  {
   "cell_type": "code",
   "execution_count": 30,
   "id": "f3af4523",
   "metadata": {},
   "outputs": [
    {
     "data": {
      "text/html": [
       "<div>\n",
       "<style scoped>\n",
       "    .dataframe tbody tr th:only-of-type {\n",
       "        vertical-align: middle;\n",
       "    }\n",
       "\n",
       "    .dataframe tbody tr th {\n",
       "        vertical-align: top;\n",
       "    }\n",
       "\n",
       "    .dataframe thead th {\n",
       "        text-align: right;\n",
       "    }\n",
       "</style>\n",
       "<table border=\"1\" class=\"dataframe\">\n",
       "  <thead>\n",
       "    <tr style=\"text-align: right;\">\n",
       "      <th></th>\n",
       "      <th>Physics</th>\n",
       "      <th>Chemistry</th>\n",
       "      <th>Biology</th>\n",
       "      <th>Math</th>\n",
       "    </tr>\n",
       "  </thead>\n",
       "  <tbody>\n",
       "    <tr>\n",
       "      <th>Student1</th>\n",
       "      <td>32</td>\n",
       "      <td>24</td>\n",
       "      <td>30</td>\n",
       "      <td>40</td>\n",
       "    </tr>\n",
       "    <tr>\n",
       "      <th>Student2</th>\n",
       "      <td>17</td>\n",
       "      <td>24</td>\n",
       "      <td>21</td>\n",
       "      <td>28</td>\n",
       "    </tr>\n",
       "    <tr>\n",
       "      <th>Student3</th>\n",
       "      <td>50</td>\n",
       "      <td>25</td>\n",
       "      <td>28</td>\n",
       "      <td>32</td>\n",
       "    </tr>\n",
       "    <tr>\n",
       "      <th>Student4</th>\n",
       "      <td>25</td>\n",
       "      <td>34</td>\n",
       "      <td>21</td>\n",
       "      <td>48</td>\n",
       "    </tr>\n",
       "    <tr>\n",
       "      <th>Student5</th>\n",
       "      <td>17</td>\n",
       "      <td>31</td>\n",
       "      <td>18</td>\n",
       "      <td>28</td>\n",
       "    </tr>\n",
       "    <tr>\n",
       "      <th>Student6</th>\n",
       "      <td>35</td>\n",
       "      <td>24</td>\n",
       "      <td>19</td>\n",
       "      <td>42</td>\n",
       "    </tr>\n",
       "  </tbody>\n",
       "</table>\n",
       "</div>"
      ],
      "text/plain": [
       "          Physics  Chemistry  Biology  Math\n",
       "Student1       32         24       30    40\n",
       "Student2       17         24       21    28\n",
       "Student3       50         25       28    32\n",
       "Student4       25         34       21    48\n",
       "Student5       17         31       18    28\n",
       "Student6       35         24       19    42"
      ]
     },
     "execution_count": 30,
     "metadata": {},
     "output_type": "execute_result"
    }
   ],
   "source": [
    "import pandas as pd\n",
    "\n",
    "# Create a Dictionary of series\n",
    "d = {'Physics': pd.Series([32, 17, 50, 25, 17, 35]),\n",
    "     'Chemistry': pd.Series([24, 24, 25, 34, 31, 24]),\n",
    "     'Biology': pd.Series([30, 21, 28, 21, 18, 19]),\n",
    "     'Math': pd.Series([40, 28, 32, 48, 28, 42])}\n",
    "\n",
    "list1 = [\"Student1\", \"Student2\", \"Student3\", \"Student4\", \"Student5\",\"Student6\"]\n",
    "\n",
    "# Create a DataFrame\n",
    "df = pd.DataFrame(d)\n",
    "\n",
    "# Set the custom index\n",
    "df.index = list1\n",
    "\n",
    "# Display the DataFrame with the specified index\n",
    "\n",
    "df\n"
   ]
  },
  {
   "cell_type": "markdown",
   "id": "03148f57",
   "metadata": {},
   "source": [
    "## Task_01"
   ]
  },
  {
   "cell_type": "code",
   "execution_count": 43,
   "id": "4bfbfb5b",
   "metadata": {},
   "outputs": [
    {
     "name": "stdout",
     "output_type": "stream",
     "text": [
      "*******************************\n",
      "Median Values in the Distribution\n",
      "Physics      28.5\n",
      "Chemistry    24.5\n",
      "Biology      21.0\n",
      "Math         36.0\n",
      "dtype: float64\n",
      "\n",
      "Mean Values in the Distribution\n",
      "\n",
      "Physics      29.333333\n",
      "Chemistry    27.000000\n",
      "Biology      22.833333\n",
      "Math         36.333333\n",
      "dtype: float64\n",
      "\n",
      "Mode Values in the Distribution\n",
      "\n",
      "   Physics  Chemistry  Biology  Math\n",
      "0       17         24       21    28\n",
      "         Physics  Chemistry    Biology       Math\n",
      "count   6.000000    6.00000   6.000000   6.000000\n",
      "mean   29.333333   27.00000  22.833333  36.333333\n",
      "std    12.564500    4.38178   4.956477   8.238123\n",
      "min    17.000000   24.00000  18.000000  28.000000\n",
      "25%    19.000000   24.00000  19.500000  29.000000\n",
      "50%    28.500000   24.50000  21.000000  36.000000\n",
      "75%    34.250000   29.50000  26.250000  41.500000\n",
      "max    50.000000   34.00000  30.000000  48.000000\n"
     ]
    }
   ],
   "source": [
    "print (\"*******************************\")\n",
    "print (\"Median Values in the Distribution\")\n",
    "print (df.median())\n",
    "print (\"\\nMean Values in the Distribution\\n\")\n",
    "print(df.mean())\n",
    "print (\"\\nMode Values in the Distribution\\n\")\n",
    "print(df.mode())\n",
    "print(df.describe())"
   ]
  },
  {
   "cell_type": "markdown",
   "id": "07edf798",
   "metadata": {},
   "source": [
    "## Task_02"
   ]
  },
  {
   "cell_type": "code",
   "execution_count": 33,
   "id": "0dc9ba41",
   "metadata": {},
   "outputs": [
    {
     "name": "stdout",
     "output_type": "stream",
     "text": [
      "29.333333333333332\n",
      "28.5\n"
     ]
    }
   ],
   "source": [
    "# Task 2: Find the mean and median of the 'Physics' column\n",
    "physics_column = df['Physics']\n",
    "mean_physics = physics_column.mean()\n",
    "median_physics = physics_column.median()\n",
    "print(mean_physics)\n",
    "print(median_physics)"
   ]
  },
  {
   "cell_type": "markdown",
   "id": "1b059831",
   "metadata": {},
   "source": [
    "## Task_03\n"
   ]
  },
  {
   "cell_type": "code",
   "execution_count": 37,
   "id": "2ed61808",
   "metadata": {},
   "outputs": [
    {
     "name": "stdout",
     "output_type": "stream",
     "text": [
      "Mean of third row: 33.75\n",
      "Median of third row: 30.0\n"
     ]
    }
   ],
   "source": [
    "row_3 = df.iloc[2]  # Indexing is 0-based\n",
    "mean_row_3 = row_3.mean()\n",
    "median_row_3 = row_3.median()\n",
    "\n",
    "print(f\"Mean of third row: {mean_row_3}\")\n",
    "print(f\"Median of third row: {median_row_3}\")"
   ]
  },
  {
   "cell_type": "markdown",
   "id": "97a92351",
   "metadata": {},
   "source": [
    "## Print Reverse using range"
   ]
  },
  {
   "cell_type": "code",
   "execution_count": 44,
   "id": "ce774ff5",
   "metadata": {},
   "outputs": [
    {
     "name": "stdout",
     "output_type": "stream",
     "text": [
      "50 49 48 47 46 45 44 43 42 41 40 39 38 37 36 35 34 33 32 31 30 29 28 27 26 25 24 23 22 21 20 19 18 17 16 15 14 13 12 11 10 9 8 7 6 5 4 3 2 1 0 "
     ]
    }
   ],
   "source": [
    "for i in range(50, -1,-1):\n",
    " print(i, end=\" \")"
   ]
  },
  {
   "cell_type": "markdown",
   "id": "acc7476c",
   "metadata": {},
   "source": [
    "## Linespace"
   ]
  },
  {
   "cell_type": "code",
   "execution_count": 56,
   "id": "48411b69",
   "metadata": {},
   "outputs": [],
   "source": [
    "import numpy as np"
   ]
  },
  {
   "cell_type": "code",
   "execution_count": 59,
   "id": "b56a6a26",
   "metadata": {},
   "outputs": [],
   "source": [
    "domain = np.linspace(2, 1000, 2)"
   ]
  },
  {
   "cell_type": "code",
   "execution_count": 60,
   "id": "006c8937",
   "metadata": {},
   "outputs": [
    {
     "data": {
      "text/plain": [
       "array([   2., 1000.])"
      ]
     },
     "execution_count": 60,
     "metadata": {},
     "output_type": "execute_result"
    }
   ],
   "source": [
    "domain"
   ]
  },
  {
   "cell_type": "code",
   "execution_count": null,
   "id": "6a83ecc3",
   "metadata": {},
   "outputs": [],
   "source": []
  },
  {
   "cell_type": "code",
   "execution_count": 66,
   "id": "ce85bef4",
   "metadata": {},
   "outputs": [
    {
     "name": "stdout",
     "output_type": "stream",
     "text": [
      "Mean of LA is 33.79333333333333\n",
      "Mean WDC is  33.973333333333336\n",
      "Standard Deviation is 2.494652057680367\n"
     ]
    }
   ],
   "source": [
    "import numpy as np\n",
    "import matplotlib.pyplot as plt\n",
    "\n",
    "# Temperature data for two cities\n",
    "LA_temps = np.array([36.0, 37.1, 36.2, 34.3, 39.4, 33.5, 30.6, 30.7, 32.8, 31.9, 31.0, 32.2, 32.3, 33.4, 35.5])\n",
    "WDC_temps = np.array([41.9, 35.8, 28.7, 29.6, 25.5, 36.4, 36.3, 32.2, 38.1, 40.0, 40.1, 34.1, 31.3, 28.7, 30.9])\n",
    "\n",
    "# Calculate mean and standard deviation\n",
    "mean_LA = np.mean(LA_temps)\n",
    "mean_WDC = np.mean(WDC_temps)\n",
    "\n",
    "\n",
    "print(\"Mean of LA is\",mean_LA)\n",
    "\n",
    "print(\"Mean WDC is \",mean_WDC)\n",
    "\n",
    "\n",
    "\n"
   ]
  },
  {
   "cell_type": "code",
   "execution_count": 67,
   "id": "63984270",
   "metadata": {},
   "outputs": [
    {
     "name": "stdout",
     "output_type": "stream",
     "text": [
      "Standard Deviation of LA is 2.494652057680367\n",
      "Standard Deviation of WDC is  4.723341566683015\n"
     ]
    }
   ],
   "source": [
    "std_LA = np.std(LA_temps)\n",
    "std_WDC = np.std(WDC_temps)\n",
    "\n",
    "\n",
    "print(\"Standard Deviation of LA is\",std_LA)\n",
    "print(\"Standard Deviation of WDC is \",std_WDC)\n"
   ]
  },
  {
   "cell_type": "code",
   "execution_count": 70,
   "id": "f0a91b0d",
   "metadata": {},
   "outputs": [
    {
     "name": "stdout",
     "output_type": "stream",
     "text": [
      "Mean temperature of LA: 33.79, Standard deviation: 2.49\n",
      "Mean temperature of WDC: 33.97, Standard deviation: 4.72\n"
     ]
    }
   ],
   "source": [
    "print(f\"Mean temperature of LA: {mean_LA:.2f}, Standard deviation: {std_LA:.2f}\")\n",
    "print(f\"Mean temperature of WDC: {mean_WDC:.2f}, Standard deviation: {std_WDC:.2f}\")"
   ]
  },
  {
   "cell_type": "code",
   "execution_count": 79,
   "id": "5444c9e7",
   "metadata": {},
   "outputs": [
    {
     "data": {
      "image/png": "[encoded data removed]",
      "text/plain": [
       "<Figure size 640x480 with 1 Axes>"
      ]
     },
     "metadata": {},
     "output_type": "display_data"
    }
   ],
   "source": [
    "# Create an error bar plot\n",
    "fig, ax = plt.subplots()\n",
    "\n",
    "# Plotting with error bars\n",
    "ax.errorbar(['LA', 'WDC'], [mean_LA, mean_WDC], yerr=[std_LA, std_WDC], fmt='o', capsize=5)\n",
    "\n",
    "# Set labels and title\n",
    "ax.set_ylabel('Temperature')\n",
    "ax.set_title('Temperature Variation Between Cities')\n",
    "\n",
    "plt.show()"
   ]
  },
  {
   "cell_type": "code",
   "execution_count": null,
   "id": "e3e02575",
   "metadata": {},
   "outputs": [],
   "source": []
  },
  {
   "cell_type": "code",
   "execution_count": null,
   "id": "92939f8e",
   "metadata": {},
   "outputs": [],
   "source": []
  },
  {
   "cell_type": "code",
   "execution_count": null,
   "id": "916b02ab",
   "metadata": {},
   "outputs": [],
   "source": []
  },
  {
   "cell_type": "code",
   "execution_count": null,
   "id": "f98a770f",
   "metadata": {},
   "outputs": [],
   "source": []
  },
  {
   "cell_type": "code",
   "execution_count": null,
   "id": "8330a715",
   "metadata": {},
   "outputs": [],
   "source": []
  },
  {
   "cell_type": "code",
   "execution_count": null,
   "id": "635ee61d",
   "metadata": {},
   "outputs": [],
   "source": []
  },
  {
   "cell_type": "code",
   "execution_count": null,
   "id": "32b1fb2e",
   "metadata": {},
   "outputs": [],
   "source": []
  },
  {
   "cell_type": "code",
   "execution_count": null,
   "id": "d15c2c9a",
   "metadata": {},
   "outputs": [],
   "source": []
  }
 ],
 "metadata": {
  "kernelspec": {
   "display_name": "Python 3 (ipykernel)",
   "language": "python",
   "name": "python3"
  },
  "language_info": {
   "codemirror_mode": {
    "name": "ipython",
    "version": 3
   },
   "file_extension": ".py",
   "mimetype": "text/x-python",
   "name": "python",
   "nbconvert_exporter": "python",
   "pygments_lexer": "ipython3",
   "version": "3.11.5"
  }
 },
 "nbformat": 4,
 "nbformat_minor": 5
}
